{
 "cells": [
  {
   "cell_type": "code",
   "execution_count": 43,
   "metadata": {},
   "outputs": [
    {
     "name": "stdout",
     "output_type": "stream",
     "text": [
      "[[100.     0.     0.   ...   0.     0.     0.  ]\n",
      " [  0.    89.84   6.2  ...   0.     0.     0.  ]\n",
      " [  0.    31.01   2.13 ...   0.     0.     0.  ]\n",
      " ...\n",
      " [  0.    20.85   0.   ...   5.69   0.     0.  ]\n",
      " [  0.    21.08   0.   ...   5.81   0.     0.  ]\n",
      " [  0.    21.12   0.   ...   5.77   0.     0.  ]]\n",
      "[0 0 0 ... 0 0 0]\n",
      "(9559, 29)\n",
      "(3187, 29)\n",
      "(9559,)\n",
      "(3187,)\n",
      "1.0\n"
     ]
    }
   ],
   "source": [
    "import pandas as pd\n",
    "import pandas.plotting as pp\n",
    "import numpy as np\n",
    "#np.set_printoptions(threshold=np.inf)\n",
    "import matplotlib.pyplot as plt\n",
    "#import collections as col\n",
    "from sklearn.model_selection import train_test_split\n",
    "from sklearn.neighbors import KNeighborsClassifier\n",
    "\n",
    "pdDataD = pd.read_csv('DataD.csv', header = 0, index_col=0)\n",
    "pdDataR = pd.read_csv('DataR.csv', header = 0, index_col=0)\n",
    "\n",
    "DataD=pdDataD.to_numpy()\n",
    "DataR=pdDataR.to_numpy()\n",
    "\n",
    "print(DataR)\n",
    "D1=DataD[:,0]\n",
    "print(D1)\n",
    "X_train,X_test,y_train,y_test=train_test_split(DataR,D1,random_state=0)\n",
    "print(X_train.shape)\n",
    "print(X_test.shape)\n",
    "print(y_train.shape)\n",
    "print(y_test.shape)\n",
    "\n",
    "#grr=pp.scatter_matrix(pdDataD,c=D1,figsize=(15,15),marker='o')\n",
    "knn=KNeighborsClassifier(n_neighbors=2)\n",
    "knn.fit(X_train,y_train)\n",
    "print(knn.score(X_test,y_test))"
   ]
  },
  {
   "cell_type": "code",
   "execution_count": null,
   "metadata": {},
   "outputs": [],
   "source": []
  }
 ],
 "metadata": {
  "kernelspec": {
   "display_name": "Python 3",
   "language": "python",
   "name": "python3"
  },
  "language_info": {
   "codemirror_mode": {
    "name": "ipython",
    "version": 3
   },
   "file_extension": ".py",
   "mimetype": "text/x-python",
   "name": "python",
   "nbconvert_exporter": "python",
   "pygments_lexer": "ipython3",
   "version": "3.7.4"
  }
 },
 "nbformat": 4,
 "nbformat_minor": 2
}
